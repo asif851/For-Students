{
 "cells": [
  {
   "cell_type": "markdown",
   "metadata": {
    "colab_type": "text",
    "id": "view-in-github"
   },
   "source": [
    "<a href=\"https://colab.research.google.com/github/asif851/For-Students/blob/main/optimizer.ipynb\" target=\"_parent\"><img src=\"https://colab.research.google.com/assets/colab-badge.svg\" alt=\"Open In Colab\"/></a>"
   ]
  },
  {
   "cell_type": "code",
   "execution_count": 5,
   "metadata": {
    "colab": {
     "base_uri": "https://localhost:8080/"
    },
    "id": "5u1hHb6RsrnK",
    "outputId": "19a0c3b2-cb3d-4921-849f-771a9d9b40b5"
   },
   "outputs": [
    {
     "name": "stdout",
     "output_type": "stream",
     "text": [
      "(60000, 28, 28) (60000,)\n"
     ]
    }
   ],
   "source": [
    "import keras\n",
    "from keras.datasets import mnist\n",
    "from keras.models import Sequential\n",
    "from keras.layers import Dense, Dropout, Flatten\n",
    "from keras.layers import Conv2D, MaxPooling2D\n",
    "from keras import backend as K\n",
    "(x_train, y_train), (x_test, y_test) = mnist.load_data()\n",
    "print(x_train.shape, y_train.shape)"
   ]
  },
  {
   "cell_type": "code",
   "execution_count": 6,
   "metadata": {
    "id": "sCgSEenNtSJY"
   },
   "outputs": [],
   "source": [
    "x_train= x_train.reshape(x_train.shape[0],28,28,1)\n",
    "x_test=  x_test.reshape(x_test.shape[0],28,28,1)\n",
    "input_shape=(28,28,1)\n",
    "y_train=keras.utils.to_categorical(y_train)#,num_classes=)\n",
    "y_test=keras.utils.to_categorical(y_test)#, num_classes)\n",
    "x_train= x_train.astype('float32')\n",
    "x_test= x_test.astype('float32')\n",
    "x_train /= 255\n",
    "x_test /=255"
   ]
  },
  {
   "cell_type": "code",
   "execution_count": 7,
   "metadata": {
    "id": "cIuQYj4btYrc"
   },
   "outputs": [],
   "source": [
    "batch_size=64\n",
    "\n",
    "num_classes=10\n",
    "\n",
    "epochs=10\n",
    "\n",
    "def build_model(optimizer):\n",
    "  model=Sequential()\n",
    "  model.add(Conv2D(32,kernel_size=(3,3),activation='relu',input_shape=input_shape))\n",
    "  model.add(MaxPooling2D(pool_size=(2,2)))\n",
    "  model.add(Dropout(0.25))\n",
    "  model.add(Flatten())\n",
    "  model.add(Dense(256, activation='relu'))\n",
    "  model.add(Dropout(0.5))\n",
    "  model.add(Dense(num_classes, activation='softmax'))\n",
    "  model.compile(loss=keras.losses.categorical_crossentropy, optimizer= optimizer, metrics=['accuracy'])\n",
    "  return model\n"
   ]
  },
  {
   "cell_type": "code",
   "execution_count": 4,
   "metadata": {
    "colab": {
     "base_uri": "https://localhost:8080/"
    },
    "id": "W7bmVQCItyID",
    "outputId": "8224b98b-8461-4fbc-a132-39a54356115d"
   },
   "outputs": [
    {
     "name": "stdout",
     "output_type": "stream",
     "text": [
      "Epoch 1/10\n",
      "938/938 [==============================] - 64s 67ms/step - loss: 2.2324 - accuracy: 0.1904 - val_loss: 2.1315 - val_accuracy: 0.5258\n",
      "Epoch 2/10\n",
      "938/938 [==============================] - 63s 68ms/step - loss: 2.0835 - accuracy: 0.3790 - val_loss: 1.9669 - val_accuracy: 0.6794\n",
      "Epoch 3/10\n",
      "938/938 [==============================] - 61s 65ms/step - loss: 1.9280 - accuracy: 0.5122 - val_loss: 1.7920 - val_accuracy: 0.7310\n",
      "Epoch 4/10\n",
      "938/938 [==============================] - 61s 65ms/step - loss: 1.7645 - accuracy: 0.5924 - val_loss: 1.6114 - val_accuracy: 0.7572\n",
      "Epoch 5/10\n",
      "938/938 [==============================] - 60s 64ms/step - loss: 1.6023 - accuracy: 0.6395 - val_loss: 1.4359 - val_accuracy: 0.7778\n",
      "Epoch 6/10\n",
      "938/938 [==============================] - 61s 65ms/step - loss: 1.4476 - accuracy: 0.6725 - val_loss: 1.2759 - val_accuracy: 0.7918\n",
      "Epoch 7/10\n",
      "938/938 [==============================] - 60s 64ms/step - loss: 1.3084 - accuracy: 0.6991 - val_loss: 1.1372 - val_accuracy: 0.8048\n",
      "Epoch 8/10\n",
      "938/938 [==============================] - 59s 63ms/step - loss: 1.1932 - accuracy: 0.7150 - val_loss: 1.0191 - val_accuracy: 0.8152\n",
      "Epoch 9/10\n",
      "938/938 [==============================] - 59s 63ms/step - loss: 1.0924 - accuracy: 0.7304 - val_loss: 0.9204 - val_accuracy: 0.8245\n",
      "Epoch 10/10\n",
      "938/938 [==============================] - 61s 65ms/step - loss: 1.0087 - accuracy: 0.7426 - val_loss: 0.8387 - val_accuracy: 0.8327\n",
      "Epoch 1/10\n",
      "938/938 [==============================] - 52s 55ms/step - loss: 1.5655 - accuracy: 0.5593 - val_loss: 0.7495 - val_accuracy: 0.8452\n",
      "Epoch 2/10\n",
      "938/938 [==============================] - 57s 60ms/step - loss: 0.7354 - accuracy: 0.7859 - val_loss: 0.4670 - val_accuracy: 0.8842\n",
      "Epoch 3/10\n",
      "938/938 [==============================] - 53s 56ms/step - loss: 0.5676 - accuracy: 0.8327 - val_loss: 0.3864 - val_accuracy: 0.8991\n",
      "Epoch 4/10\n",
      "938/938 [==============================] - 51s 55ms/step - loss: 0.4961 - accuracy: 0.8521 - val_loss: 0.3440 - val_accuracy: 0.9060\n",
      "Epoch 5/10\n",
      "938/938 [==============================] - 53s 57ms/step - loss: 0.4544 - accuracy: 0.8654 - val_loss: 0.3173 - val_accuracy: 0.9138\n",
      "Epoch 6/10\n",
      "938/938 [==============================] - 52s 55ms/step - loss: 0.4264 - accuracy: 0.8735 - val_loss: 0.2986 - val_accuracy: 0.9177\n",
      "Epoch 7/10\n",
      "938/938 [==============================] - 52s 56ms/step - loss: 0.3984 - accuracy: 0.8817 - val_loss: 0.2815 - val_accuracy: 0.9220\n",
      "Epoch 8/10\n",
      "938/938 [==============================] - 53s 56ms/step - loss: 0.3779 - accuracy: 0.8880 - val_loss: 0.2680 - val_accuracy: 0.9244\n",
      "Epoch 9/10\n",
      "938/938 [==============================] - 52s 56ms/step - loss: 0.3676 - accuracy: 0.8915 - val_loss: 0.2569 - val_accuracy: 0.9275\n",
      "Epoch 10/10\n",
      "938/938 [==============================] - 52s 55ms/step - loss: 0.3508 - accuracy: 0.8969 - val_loss: 0.2470 - val_accuracy: 0.9303\n",
      "Epoch 1/10\n",
      "938/938 [==============================] - 56s 58ms/step - loss: 0.2264 - accuracy: 0.9315 - val_loss: 0.0638 - val_accuracy: 0.9802\n",
      "Epoch 2/10\n",
      "938/938 [==============================] - 57s 61ms/step - loss: 0.0882 - accuracy: 0.9728 - val_loss: 0.0447 - val_accuracy: 0.9854\n",
      "Epoch 3/10\n",
      "938/938 [==============================] - 54s 57ms/step - loss: 0.0662 - accuracy: 0.9795 - val_loss: 0.0414 - val_accuracy: 0.9868\n",
      "Epoch 4/10\n",
      "938/938 [==============================] - 54s 57ms/step - loss: 0.0538 - accuracy: 0.9830 - val_loss: 0.0366 - val_accuracy: 0.9877\n",
      "Epoch 5/10\n",
      "938/938 [==============================] - 53s 57ms/step - loss: 0.0458 - accuracy: 0.9852 - val_loss: 0.0369 - val_accuracy: 0.9880\n",
      "Epoch 6/10\n",
      "938/938 [==============================] - 53s 57ms/step - loss: 0.0391 - accuracy: 0.9875 - val_loss: 0.0346 - val_accuracy: 0.9883\n",
      "Epoch 7/10\n",
      "938/938 [==============================] - 54s 57ms/step - loss: 0.0337 - accuracy: 0.9888 - val_loss: 0.0337 - val_accuracy: 0.9892\n",
      "Epoch 8/10\n",
      "938/938 [==============================] - 52s 55ms/step - loss: 0.0308 - accuracy: 0.9897 - val_loss: 0.0358 - val_accuracy: 0.9889\n",
      "Epoch 9/10\n",
      "938/938 [==============================] - 53s 57ms/step - loss: 0.0291 - accuracy: 0.9905 - val_loss: 0.0318 - val_accuracy: 0.9892\n",
      "Epoch 10/10\n",
      "938/938 [==============================] - 53s 56ms/step - loss: 0.0264 - accuracy: 0.9913 - val_loss: 0.0314 - val_accuracy: 0.9904\n",
      "Epoch 1/10\n",
      "938/938 [==============================] - 53s 56ms/step - loss: 0.2356 - accuracy: 0.9300 - val_loss: 0.0709 - val_accuracy: 0.9777\n",
      "Epoch 2/10\n",
      "938/938 [==============================] - 52s 55ms/step - loss: 0.0908 - accuracy: 0.9722 - val_loss: 0.0479 - val_accuracy: 0.9835\n",
      "Epoch 3/10\n",
      "938/938 [==============================] - 52s 56ms/step - loss: 0.0686 - accuracy: 0.9793 - val_loss: 0.0409 - val_accuracy: 0.9857\n",
      "Epoch 4/10\n",
      "938/938 [==============================] - 51s 54ms/step - loss: 0.0582 - accuracy: 0.9826 - val_loss: 0.0432 - val_accuracy: 0.9864\n",
      "Epoch 5/10\n",
      "938/938 [==============================] - 52s 55ms/step - loss: 0.0518 - accuracy: 0.9847 - val_loss: 0.0418 - val_accuracy: 0.9865\n",
      "Epoch 6/10\n",
      "938/938 [==============================] - 51s 55ms/step - loss: 0.0485 - accuracy: 0.9848 - val_loss: 0.0403 - val_accuracy: 0.9871\n",
      "Epoch 7/10\n",
      "938/938 [==============================] - 52s 55ms/step - loss: 0.0432 - accuracy: 0.9867 - val_loss: 0.0347 - val_accuracy: 0.9895\n",
      "Epoch 8/10\n",
      "938/938 [==============================] - 52s 55ms/step - loss: 0.0425 - accuracy: 0.9868 - val_loss: 0.0341 - val_accuracy: 0.9884\n",
      "Epoch 9/10\n",
      "938/938 [==============================] - 51s 54ms/step - loss: 0.0391 - accuracy: 0.9887 - val_loss: 0.0355 - val_accuracy: 0.9883\n",
      "Epoch 10/10\n",
      "938/938 [==============================] - 52s 55ms/step - loss: 0.0364 - accuracy: 0.9888 - val_loss: 0.0339 - val_accuracy: 0.9903\n",
      "Epoch 1/10\n",
      "938/938 [==============================] - 48s 51ms/step - loss: 0.8243 - accuracy: 0.7508 - val_loss: 0.3134 - val_accuracy: 0.9096\n",
      "Epoch 2/10\n",
      "938/938 [==============================] - 48s 51ms/step - loss: 0.3780 - accuracy: 0.8858 - val_loss: 0.2291 - val_accuracy: 0.9336\n",
      "Epoch 3/10\n",
      "938/938 [==============================] - 47s 51ms/step - loss: 0.3079 - accuracy: 0.9067 - val_loss: 0.1898 - val_accuracy: 0.9445\n",
      "Epoch 4/10\n",
      "938/938 [==============================] - 47s 50ms/step - loss: 0.2660 - accuracy: 0.9202 - val_loss: 0.1634 - val_accuracy: 0.9510\n",
      "Epoch 5/10\n",
      "938/938 [==============================] - 46s 49ms/step - loss: 0.2447 - accuracy: 0.9275 - val_loss: 0.1464 - val_accuracy: 0.9565\n",
      "Epoch 6/10\n",
      "938/938 [==============================] - 48s 51ms/step - loss: 0.2241 - accuracy: 0.9324 - val_loss: 0.1345 - val_accuracy: 0.9625\n",
      "Epoch 7/10\n",
      "938/938 [==============================] - 47s 50ms/step - loss: 0.2087 - accuracy: 0.9374 - val_loss: 0.1268 - val_accuracy: 0.9613\n",
      "Epoch 8/10\n",
      "938/938 [==============================] - 49s 52ms/step - loss: 0.1952 - accuracy: 0.9419 - val_loss: 0.1174 - val_accuracy: 0.9638\n",
      "Epoch 9/10\n",
      "938/938 [==============================] - 49s 53ms/step - loss: 0.1843 - accuracy: 0.9448 - val_loss: 0.1101 - val_accuracy: 0.9677\n",
      "Epoch 10/10\n",
      "938/938 [==============================] - 50s 53ms/step - loss: 0.1744 - accuracy: 0.9474 - val_loss: 0.1037 - val_accuracy: 0.9673\n"
     ]
    }
   ],
   "source": [
    "optimizers = ['Adadelta', 'Adagrad', 'Adam', 'RMSprop', 'SGD']\n",
    "\n",
    "for i in optimizers:\n",
    "  model = build_model(i)\n",
    "  hist=model.fit(x_train, y_train, batch_size=batch_size, epochs=epochs, verbose=1, validation_data=(x_test,y_test))"
   ]
  }
 ],
 "metadata": {
  "colab": {
   "authorship_tag": "ABX9TyN/56hgK4JhY+1+8zspssmQ",
   "include_colab_link": true,
   "provenance": []
  },
  "kernelspec": {
   "display_name": "Python 3 (ipykernel)",
   "language": "python",
   "name": "python3"
  },
  "language_info": {
   "codemirror_mode": {
    "name": "ipython",
    "version": 3
   },
   "file_extension": ".py",
   "mimetype": "text/x-python",
   "name": "python",
   "nbconvert_exporter": "python",
   "pygments_lexer": "ipython3",
   "version": "3.10.9"
  }
 },
 "nbformat": 4,
 "nbformat_minor": 1
}

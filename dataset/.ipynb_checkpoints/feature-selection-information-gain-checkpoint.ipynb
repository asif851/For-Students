{
 "cells": [
  {
   "cell_type": "code",
   "execution_count": null,
   "id": "5cce36e7-6e05-4c35-8945-51496247394a",
   "metadata": {},
   "outputs": [],
   "source": [
    "import pandas as pd\n",
    "from sklearn.model_selection import train_test_split\n",
    "from sklearn.feature_selection import SelectKBest, mutual_info_classif\n",
    "\n",
    "# Assuming you have a DataFrame named 'df' with features and target variable\n",
    "# Replace 'target_column' with the actual name of your target variable\n",
    "target_column = 'churn'\n",
    "X = df.drop(target_column, axis=1)\n",
    "y = df[target_column]\n",
    "\n",
    "# Split the data into training and testing sets\n",
    "X_train, X_test, y_train, y_test = train_test_split(X, y, test_size=0.2, random_state=42)\n",
    "\n",
    "# Use mutual information for feature selection\n",
    "k_best = SelectKBest(score_func=mutual_info_classif, k='all')  # You can specify the number of features with 'k'\n",
    "k_best.fit(X_train, y_train)\n",
    "\n",
    "# Get the selected features\n",
    "selected_features = X.columns[k_best.get_support()]\n",
    "\n",
    "# Print the selected features\n",
    "print(\"Selected Features:\")\n",
    "print(selected_features)\n"
   ]
  },
  {
   "cell_type": "code",
   "execution_count": null,
   "id": "361cc550-0d85-402a-a1d5-674fcbdf8e15",
   "metadata": {},
   "outputs": [],
   "source": [
    "import pandas as pd\n",
    "from sklearn.model_selection import train_test_split\n",
    "from sklearn.tree import DecisionTreeClassifier\n",
    "from sklearn.feature_selection import SelectFromModel"
   ]
  },
  {
   "cell_type": "code",
   "execution_count": null,
   "id": "b46c2b2e-5999-4b5c-bae1-3e36479908b8",
   "metadata": {},
   "outputs": [],
   "source": [
    "df=pd.read_csv('dataset/Churn_Modelling.csv')\n",
    "\n",
    "# drop unnecessary feature\n",
    "\n",
    "df=df.drop(['RowNumber','CustomerId','Surname'],axis=1)\n",
    "\n",
    "\n",
    "df.head()"
   ]
  },
  {
   "cell_type": "code",
   "execution_count": null,
   "id": "7bf0636b-1337-4cc3-9dfb-c37d2cf9c66a",
   "metadata": {},
   "outputs": [],
   "source": [
    "#Encoding the data\n",
    "from sklearn.preprocessing import LabelEncoder\n",
    "le=LabelEncoder()\n",
    "df=df.apply(le.fit_transform)"
   ]
  },
  {
   "cell_type": "code",
   "execution_count": null,
   "id": "7485285e-e0a8-468d-85d6-671937f01cca",
   "metadata": {},
   "outputs": [],
   "source": [
    "# Assuming you have a DataFrame named 'df' with features and target variable\n",
    "# Replace 'target_column' with the actual name of your target variable\n",
    "target_column = 'Exited'\n",
    "X = df.drop(target_column, axis=1)\n",
    "y = df[target_column]\n",
    "\n",
    "# Split the data into training and testing sets\n",
    "X_train, X_test, y_train, y_test = train_test_split(X, y, test_size=0.2, random_state=42)"
   ]
  }
 ],
 "metadata": {
  "kernelspec": {
   "display_name": "Python 3 (ipykernel)",
   "language": "python",
   "name": "python3"
  },
  "language_info": {
   "codemirror_mode": {
    "name": "ipython",
    "version": 3
   },
   "file_extension": ".py",
   "mimetype": "text/x-python",
   "name": "python",
   "nbconvert_exporter": "python",
   "pygments_lexer": "ipython3",
   "version": "3.11.6"
  }
 },
 "nbformat": 4,
 "nbformat_minor": 5
}
